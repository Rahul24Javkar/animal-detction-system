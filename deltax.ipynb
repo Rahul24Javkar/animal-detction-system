{
 "cells": [
  {
   "cell_type": "code",
   "execution_count": 3,
   "metadata": {},
   "outputs": [
    {
     "name": "stdout",
     "output_type": "stream",
     "text": [
      "hello\n"
     ]
    }
   ],
   "source": [
    "print(\"hello\")"
   ]
  },
  {
   "cell_type": "code",
   "execution_count": 11,
   "metadata": {},
   "outputs": [
    {
     "ename": "IndexError",
     "evalue": "list index out of range",
     "output_type": "error",
     "traceback": [
      "\u001b[1;31m---------------------------------------------------------------------------\u001b[0m",
      "\u001b[1;31mIndexError\u001b[0m                                Traceback (most recent call last)",
      "Cell \u001b[1;32mIn[11], line 22\u001b[0m\n\u001b[0;32m     19\u001b[0m A \u001b[38;5;241m=\u001b[39m \u001b[38;5;28mlist\u001b[39m(\u001b[38;5;28mmap\u001b[39m(\u001b[38;5;28mint\u001b[39m, \u001b[38;5;28minput\u001b[39m()\u001b[38;5;241m.\u001b[39msplit()))\n\u001b[0;32m     21\u001b[0m \u001b[38;5;66;03m# Output the minimum value of function F(B)\u001b[39;00m\n\u001b[1;32m---> 22\u001b[0m \u001b[38;5;28mprint\u001b[39m(\u001b[43mminimize_function_f\u001b[49m\u001b[43m(\u001b[49m\u001b[43mA\u001b[49m\u001b[43m,\u001b[49m\u001b[43m \u001b[49m\u001b[43mN\u001b[49m\u001b[43m,\u001b[49m\u001b[43m \u001b[49m\u001b[43mM\u001b[49m\u001b[43m)\u001b[49m)\n",
      "Cell \u001b[1;32mIn[11], line 11\u001b[0m, in \u001b[0;36mminimize_function_f\u001b[1;34m(A, N, M)\u001b[0m\n\u001b[0;32m      8\u001b[0m \u001b[38;5;66;03m# Step 3: Use a sliding window approach\u001b[39;00m\n\u001b[0;32m      9\u001b[0m \u001b[38;5;28;01mfor\u001b[39;00m i \u001b[38;5;129;01min\u001b[39;00m \u001b[38;5;28mrange\u001b[39m(N \u001b[38;5;241m-\u001b[39m M \u001b[38;5;241m+\u001b[39m \u001b[38;5;241m1\u001b[39m):\n\u001b[0;32m     10\u001b[0m     \u001b[38;5;66;03m# Difference between the max and min in the current subarray of size M\u001b[39;00m\n\u001b[1;32m---> 11\u001b[0m     current_diff \u001b[38;5;241m=\u001b[39m \u001b[43mA\u001b[49m\u001b[43m[\u001b[49m\u001b[43mi\u001b[49m\u001b[43m \u001b[49m\u001b[38;5;241;43m+\u001b[39;49m\u001b[43m \u001b[49m\u001b[43mM\u001b[49m\u001b[43m \u001b[49m\u001b[38;5;241;43m-\u001b[39;49m\u001b[43m \u001b[49m\u001b[38;5;241;43m1\u001b[39;49m\u001b[43m]\u001b[49m \u001b[38;5;241m-\u001b[39m A[i]\n\u001b[0;32m     12\u001b[0m     \u001b[38;5;66;03m# Update the minimum difference\u001b[39;00m\n\u001b[0;32m     13\u001b[0m     min_diff \u001b[38;5;241m=\u001b[39m \u001b[38;5;28mmin\u001b[39m(min_diff, current_diff)\n",
      "\u001b[1;31mIndexError\u001b[0m: list index out of range"
     ]
    }
   ],
   "source": [
    "def minimize_function_f(A, N, M):\n",
    "    # Step 1: Sort the array\n",
    "    A.sort()\n",
    "\n",
    "    # Step 2: Initialize minimum difference to a large value\n",
    "    min_diff = float('inf')\n",
    "\n",
    "    # Step 3: Use a sliding window approach\n",
    "    for i in range(N - M + 1):\n",
    "        # Difference between the max and min in the current subarray of size M\n",
    "        current_diff = A[i + M - 1] - A[i]\n",
    "        # Update the minimum difference\n",
    "        min_diff = min(min_diff, current_diff)\n",
    "\n",
    "    return min_diff\n",
    "\n",
    "# Input reading\n",
    "N, M = map(int, input().split())\n",
    "A = list(map(int, input().split()))\n",
    "\n",
    "# Output the minimum value of function F(B)\n",
    "print(minimize_function_f(A, N, M))\n"
   ]
  },
  {
   "cell_type": "code",
   "execution_count": null,
   "metadata": {},
   "outputs": [],
   "source": []
  }
 ],
 "metadata": {
  "kernelspec": {
   "display_name": "Python 3",
   "language": "python",
   "name": "python3"
  },
  "language_info": {
   "codemirror_mode": {
    "name": "ipython",
    "version": 3
   },
   "file_extension": ".py",
   "mimetype": "text/x-python",
   "name": "python",
   "nbconvert_exporter": "python",
   "pygments_lexer": "ipython3",
   "version": "3.12.1"
  }
 },
 "nbformat": 4,
 "nbformat_minor": 2
}
